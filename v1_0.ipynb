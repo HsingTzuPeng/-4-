{
 "cells": [
  {
   "cell_type": "code",
   "execution_count": null,
   "metadata": {},
   "outputs": [],
   "source": [
    "# Create a new Django project by running the following command in a Jupyter Notebook cell:\n",
    "!django-admin startproject myproject"
   ]
  },
  {
   "cell_type": "code",
   "execution_count": null,
   "metadata": {},
   "outputs": [],
   "source": [
    "# Create a new Django app by running the following command:\n",
    "!python manage.py startapp shop"
   ]
  },
  {
   "cell_type": "code",
   "execution_count": null,
   "metadata": {},
   "outputs": [],
   "source": [
    "# Open the myproject/settings.py file and add 'shop' to the INSTALLED_APPS list:\n",
    "# myproject/settings.py\n",
    "INSTALLED_APPS = [\n",
    "    # ...\n",
    "    'shop',\n",
    "]\n"
   ]
  },
  {
   "cell_type": "code",
   "execution_count": null,
   "metadata": {},
   "outputs": [],
   "source": [
    "# In the shop/models.py file, define the models for your shop:\n",
    "# shop/models.py\n",
    "from django.db import models\n",
    "\n",
    "class Product(models.Model):\n",
    "    name = models.CharField(max_length=200)\n",
    "    description = models.TextField()\n",
    "    price = models.DecimalField(max_digits=10, decimal_places=2)\n",
    "\n",
    "class Order(models.Model):\n",
    "    created = models.DateTimeField(auto_now_add=True)\n",
    "    customer_name = models.CharField(max_length=200)\n",
    "    customer_email = models.EmailField()\n",
    "    products = models.ManyToManyField(Product, through='OrderItem')\n",
    "\n",
    "class OrderItem(models.Model):\n",
    "    order = models.ForeignKey(Order, on_delete=models.CASCADE)\n",
    "    product = models.ForeignKey(Product, on_delete=models.CASCADE)\n",
    "    quantity = models.PositiveIntegerField()\n"
   ]
  },
  {
   "cell_type": "code",
   "execution_count": null,
   "metadata": {},
   "outputs": [],
   "source": [
    "# Create the database tables by running the following commands in separate cells:\n",
    "!python manage.py makemigrations\n",
    "!python manage.py migrate\n"
   ]
  },
  {
   "cell_type": "code",
   "execution_count": null,
   "metadata": {},
   "outputs": [],
   "source": [
    "# In the shop/views.py file, create views for displaying the products and handling orders:\n",
    "# shop/views.py\n",
    "from django.shortcuts import render, get_object_or_404\n",
    "from django.views.generic.list import ListView\n",
    "from django.views.generic.edit import FormView\n",
    "from .models import Product, Order, OrderItem\n",
    "\n",
    "class ProductListView(ListView):\n",
    "    model = Product\n",
    "    template_name = 'product_list.html'\n",
    "\n",
    "class OrderFormView(FormView):\n",
    "    template_name = 'order_form.html'\n",
    "    form_class = OrderForm\n",
    "    success_url = '/thankyou/'\n",
    "\n",
    "    def form_valid(self, form):\n",
    "        order = Order.objects.create(\n",
    "            customer_name=form.cleaned_data['name'],\n",
    "            customer_email=form.cleaned_data['email']\n",
    "        )\n",
    "        for product_id, quantity in form.cleaned_data['products'].items():\n",
    "            product = get_object_or_404(Product, id=product_id)\n",
    "            OrderItem.objects.create(\n",
    "                order=order,\n",
    "                product=product,\n",
    "                quantity=quantity\n",
    "            )\n",
    "        return super().form_valid(form)\n"
   ]
  },
  {
   "cell_type": "code",
   "execution_count": null,
   "metadata": {},
   "outputs": [],
   "source": [
    "# Create the templates for the views in shop/templates/:\n",
    "# product_list.html\n",
    "\n",
    "{% extends 'base.html' %}\n",
    "\n",
    "{% block content %}\n",
    "    <h1>Products</h1>\n",
    "    <ul>\n",
    "    {% for product in object_list %}\n",
    "        <li>\n",
    "            <a href=\"{% url 'product_detail' product.pk %}\">{{ product.name }}</a>\n",
    "            - ${{ product.price }}\n",
    "        </li>\n",
    "    {% empty %}\n",
    "        <li>No products available</li>\n",
    "    {% endfor %}\n",
    "    </ul>\n",
    "{% endblock %}\n"
   ]
  },
  {
   "cell_type": "code",
   "execution_count": null,
   "metadata": {},
   "outputs": [],
   "source": [
    "# `order_form.html`\n",
    "{% extends 'base.html' %}\n",
    "\n",
    "{% block content %}\n",
    "    <h1>Order form</h1>\n",
    "    <form method=\"post\">\n",
    "        {% csrf_token %}\n",
    "        {{ form.as_p }}\n",
    "        <input type=\"submit\" value=\"Place order\">\n",
    "    </form>\n",
    "{% endblock %}\n"
   ]
  },
  {
   "cell_type": "code",
   "execution_count": null,
   "metadata": {},
   "outputs": [],
   "source": [
    "# 8.Define the URLs for the views in shop/urls.py:\n",
    "# shop/urls.py\n",
    "from django.urls import path\n",
    "from .views import ProductListView, OrderFormView"
   ]
  },
  {
   "cell_type": "code",
   "execution_count": null,
   "metadata": {},
   "outputs": [],
   "source": []
  },
  {
   "cell_type": "code",
   "execution_count": null,
   "metadata": {},
   "outputs": [],
   "source": []
  },
  {
   "cell_type": "code",
   "execution_count": null,
   "metadata": {},
   "outputs": [],
   "source": []
  },
  {
   "cell_type": "code",
   "execution_count": null,
   "metadata": {},
   "outputs": [],
   "source": []
  },
  {
   "cell_type": "code",
   "execution_count": null,
   "metadata": {},
   "outputs": [],
   "source": []
  }
 ],
 "metadata": {
  "language_info": {
   "name": "python"
  },
  "orig_nbformat": 4
 },
 "nbformat": 4,
 "nbformat_minor": 2
}
